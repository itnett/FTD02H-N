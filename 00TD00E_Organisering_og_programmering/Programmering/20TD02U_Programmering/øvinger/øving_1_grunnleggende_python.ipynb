# Øving 1: Grunnleggende Python

**Mål:**

*   Bli kjent med Jupyter Notebook.
*   Forstå variabler, datatyper og operatorer.
*   Lære grunnleggende kontrollstrukturer (if/else).
*   Øve på å bruke løkker (for/while).

**Oppgaver:**

1.  Lag variabler for navn, alder og favorittmat. Skriv ut en setning som bruker disse variablene.
2.  Be brukeren om å skrive inn to tall. Beregn summen, differansen, produktet og kvotienten av tallene.
3.  Skriv en funksjon som tar inn et tall og returnerer True hvis tallet er et primtall, False ellers.
4.  Lag en liste med fem forskjellige dyr. Bruk en løkke til å skrive ut hvert dyr på en ny linje.
5.  Skriv et program som ber brukeren gjette et tilfeldig tall mellom 1 og 100. Gi tilbakemelding om gjetningen er for høy eller for lav.
