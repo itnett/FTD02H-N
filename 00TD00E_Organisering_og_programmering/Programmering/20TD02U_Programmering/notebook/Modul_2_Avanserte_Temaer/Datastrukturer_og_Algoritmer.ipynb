{
   "cells": [
      {
         "cell_type": "markdown",
         "metadata": {},
         "source": [
            "# Modul 2: Avanserte Temaer\n",
            "## Tema: Datastrukturer og Algoritmer\n",
            "Verktøy: VisualAlgo\n",
            "Nettressurser: GeeksforGeeks"
         ]
      },
      {
         "cell_type": "code",
         "execution_count": null,
         "metadata": {},
         "outputs": [],
         "source": [
            "# Eksempel på algoritme: Boblesortering\n",
            "def boblesortering(liste):\n",
            "    n = len(liste)\n",
            "    for i in range(n):\n",
            "        for j in range(0, n-i-1):\n",
            "            if liste[j] > liste[j+1]:\n",
            "                liste[j], liste[j+1] = liste[j+1], liste[j]\n",
            "    return liste\n",
            "\n",
            "tall_liste = [64, 34, 25, 12, 22, 11, 90]\n",
            "sortert_liste = boblesortering(tall_liste)\n",
            "print(\"Sortert liste:\", sortert_liste)"
         ]
      }
   ],
   "metadata": {
      "kernelspec": {
         "display_name": "Python 3",
         "language": "python",
         "name": "python3"
      },
      "language_info": {
         "name": "python",
         "version": "3.8.5"
      }
   },
   "nbformat": 4,
   "nbformat_minor": 4
}
