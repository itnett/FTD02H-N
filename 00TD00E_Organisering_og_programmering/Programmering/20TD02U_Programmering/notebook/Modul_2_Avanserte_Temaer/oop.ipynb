{
   "cells": [
      {
         "cell_type": "markdown",
         "metadata": {},
         "source": [
            "# Modul 2: Avanserte Temaer\n",
            "## Tema: Objektorientert Programmering (OOP)\n",
            "Verktøy: UML-verktøy (PlantUML, StarUML)\n",
            "Nettressurser: Real Python"
         ]
      },
      {
         "cell_type": "code",
         "execution_count": null,
         "metadata": {},
         "outputs": [],
         "source": [
            "# Klasser og objekter\n",
            "class Hund:\n",
            "    def __init__(self, navn, rase):\n",
            "        self.navn = navn\n",
            "        self.rase = rase\n",
            "    def bjeff(self):\n",
            "        print(\"Voff!\")\n",
            "\n",
            "fido = Hund(\"Fido\", \"Golden Retriever\")\n",
            "fido.bjeff()"
         ]
      }
   ],
   "metadata": {
      "kernelspec": {
         "display_name": "Python 3",
         "language": "python",
         "name": "python3"
      },
      "language_info": {
         "name": "python",
         "version": "3.8.5"
      }
   },
   "nbformat": 4,
   "nbformat_minor": 4
}
