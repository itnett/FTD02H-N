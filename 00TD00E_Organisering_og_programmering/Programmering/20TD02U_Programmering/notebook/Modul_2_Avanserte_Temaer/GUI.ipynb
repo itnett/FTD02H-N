{
   "cells": [
      {
         "cell_type": "markdown",
         "metadata": {},
         "source": [
            "# Modul 2: Avanserte Temaer\n",
            "## Tema: GUI-utvikling\n",
            "Verktøy: Qt Designer\n",
            "Nettressurser: PyQt5 Tutorial"
         ]
      },
      {
         "cell_type": "code",
         "execution_count": null,
         "metadata": {},
         "outputs": [],
         "source": [
            "import sys\n",
            "from PyQt5.QtWidgets import QApplication, QLabel, QPushButton\n",
            "\n",
            "def klikk():\n",
            "    label.setText(\"Knappen ble trykket!\")\n",
            "\n",
            "app = QApplication([])\n",
            "label = QLabel(\"Hei, PyQt!\")\n",
            "knapp = QPushButton(\"Trykk her\")\n",
            "knapp.clicked.connect(klikk)\n",
            "label.show()\n",
            "knapp.show()\n",
            "app.exec_()"
         ]
      }
   ],
   "metadata": {
      "kernelspec": {
         "display_name": "Python 3",
         "language": "python",
         "name": "python3"
      },
      "language_info": {
         "name": "python",
         "version": "3.8.5"
      }
   },
   "nbformat": 4,
   "nbformat_minor": 4
}
