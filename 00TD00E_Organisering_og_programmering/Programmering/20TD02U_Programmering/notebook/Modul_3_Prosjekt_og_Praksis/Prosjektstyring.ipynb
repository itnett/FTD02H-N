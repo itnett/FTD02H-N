{
   "cells": [
      {
         "cell_type": "markdown",
         "metadata": {},
         "source": [
            "# Modul 3: Prosjekt og Praksis\n",
            "## Tema: Prosjektstyring\n",
            "Verktøy: Trello, Asana\n",
            "Nettressurser: Trello Tutorial, Asana Guide"
         ]
      },
      {
         "cell_type": "markdown",
         "metadata": {},
         "source": [
            "### Prosjektplan\n",
            "1. Definer prosjektmål\n",
            "2. Opprett oppgaveliste\n",
            "3. Tildel oppgaver til teammedlemmer\n",
            "4. Sett tidsfrister og milepæler\n",
            "5. Følg opp fremdriften jevnlig"
         ]
      }
   ],
   "metadata": {
      "kernelspec": {
         "display_name": "Python 3",
         "language": "python",
         "name": "python3"
      },
      "language_info": {
         "name": "python",
         "version": "3.8.5"
      }
   },
   "nbformat": 4,
   "nbformat_minor": 4
}
