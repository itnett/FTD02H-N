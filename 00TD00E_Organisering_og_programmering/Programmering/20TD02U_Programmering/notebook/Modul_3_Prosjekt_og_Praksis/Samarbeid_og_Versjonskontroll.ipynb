{
   "cells": [
      {
         "cell_type": "markdown",
         "metadata": {},
         "source": [
            "# Modul 3: Prosjekt og Praksis\n",
            "## Tema: Samarbeid og Versjonskontroll\n",
            "Verktøy: Git\n",
            "Nettressurser: GitHub Tutorial, GitLab Guide"
         ]
      },
      {
         "cell_type": "code",
         "execution_count": null,
         "metadata": {},
         "outputs": [],
         "source": [
            "# Eksempel på Git-kommandoer\n",
            "!git init\n",
            "!git add .\n",
            "!git commit -m \"Første commit\"\n",
            "!git remote add origin <remote-repository-URL>\n",
            "!git push -u origin master"
         ]
      }
   ],
   "metadata": {
      "kernelspec": {
         "display_name": "Python 3",
         "language": "python",
         "name": "python3"
      },
      "language_info": {
         "name": "python",
         "version": "3.8.5"
      }
   },
   "nbformat": 4,
   "nbformat_minor": 4
}
