{
   "cells": [
      {
         "cell_type": "markdown",
         "metadata": {},
         "source": [
            "# Modul 3: Prosjekt og Praksis\n",
            "## Tema: Praktiske Prosjekter\n",
            "Verktøy: Flask, Django\n",
            "Nettressurser: Flask Tutorial, Django Documentation"
         ]
      },
      {
         "cell_type": "code",
         "execution_count": null,
         "metadata": {},
         "outputs": [],
         "source": [
            "# Eksempel på en enkel Flask-applikasjon\n",
            "from flask import Flask\n",
            "\n",
            "app = Flask(__name__)\n",
            "\n",
            "@app.route('/')\n",
            "def home():\n",
            "    return \"Hei, Flask!\"\n",
            "\n",
            "if __name__ == '__main__':\n",
            "    app.run(debug=True)"
         ]
      }
   ],
   "metadata": {
      "kernelspec": {
         "display_name": "Python 3",
         "language": "python",
         "name": "python3"
      },
      "language_info": {
         "name": "python",
         "version": "3.8.5"
      }
   },
   "nbformat": 4,
   "nbformat_minor": 4
}
