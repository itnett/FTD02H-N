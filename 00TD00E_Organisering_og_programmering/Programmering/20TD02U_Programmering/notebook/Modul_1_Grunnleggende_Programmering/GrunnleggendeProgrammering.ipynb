{
   "cells": [
      {
         "cell_type": "markdown",
         "metadata": {},
         "source": [
            "# Modul 1: Grunnleggende Programmering\n",
            "## Tema: Grunnleggende konsepter\n",
            "### Variabler og Datatyper\n",
            "Verktøy: Anki for å memorere nøkkelbegreper\n",
            "Nettressurser: W3Schools Python Tutorial, Programiz Python Tutorial"
         ]
      },
      {
         "cell_type": "code",
         "execution_count": null,
         "metadata": {},
         "outputs": [],
         "source": [
            "# Eksempler\n",
            "# Variabler og datatyper\n",
            "navn = \"Ola Nordmann\"\n",
            "alder = 35\n",
            "høyde = 1.80\n",
            "er_student = True\n",
            "\n",
            "# Utskrift\n",
            "print(\"Navn:\", navn)\n",
            "print(\"Alder:\", alder)\n",
            "print(\"Høyde:\", høyde)\n",
            "print(\"Er student:\", er_student)"
         ]
      }
   ],
   "metadata": {
      "kernelspec": {
         "display_name": "Python 3",
         "language": "python",
         "name": "python3"
      },
      "language_info": {
         "name": "python",
         "version": "3.8.5"
      }
   },
   "nbformat": 4,
   "nbformat_minor": 4
}
