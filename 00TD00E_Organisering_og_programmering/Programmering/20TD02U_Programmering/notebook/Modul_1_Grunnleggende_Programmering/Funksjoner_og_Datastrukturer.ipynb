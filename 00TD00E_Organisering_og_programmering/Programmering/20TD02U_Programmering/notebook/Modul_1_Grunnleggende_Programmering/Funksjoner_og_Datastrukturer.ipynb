{
   "cells": [
      {
         "cell_type": "markdown",
         "metadata": {},
         "source": [
            "# Modul 1: Grunnleggende Programmering\n",
            "## Tema: Kontrollstrukturer\n",
            "### Betingelser og Løkker\n",
            "Verktøy: Python Tutor for visualisering\n",
            "Nettressurser: Real Python"
         ]
      },
      {
         "cell_type": "code",
         "execution_count": null,
         "metadata": {},
         "outputs": [],
         "source": [
            "# Betingelser (if/else)\n",
            "alder = 16\n",
            "if alder >= 18:\n",
            "    print(\"Du er myndig.\")\n",
            "else:\n",
            "    print(\"Du er ikke myndig.\")\n",
            "\n",
            "# Løkker (for)\n",
            "for i in range(1, 11):\n",
            "    print(i)"
         ]
      }
   ],
   "metadata": {
      "kernelspec": {
         "display_name": "Python 3",
         "language": "python",
         "name": "python3"
      },
      "language_info": {
         "name": "python",
         "version": "3.8.5"
      }
   },
   "nbformat": 4,
   "nbformat_minor": 4
}
