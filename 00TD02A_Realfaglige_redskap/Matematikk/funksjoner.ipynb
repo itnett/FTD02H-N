{
   "cells": [
      {
         "cell_type": "markdown",
         "metadata": {},
         "source": [
            "# Modul 3: Funksjoner"
         ]
      },
      {
         "cell_type": "markdown",
         "metadata": {},
         "source": [
            "## Rette linjer: Lineære funksjoner (y = mx + b), stigningstall, konstantledd"
         ]
      },
      {
         "cell_type": "markdown",
         "metadata": {},
         "source": [
            "### Eksempel (IT-drift): Modellere lineær sammenheng mellom antall brukere og responstid"
         ]
      },
      {
         "cell_type": "code",
         "execution_count": null,
         "metadata": {},
         "outputs": [],
         "source": [
            "import matplotlib.pyplot as plt\n",
            "import numpy as np\n",
            "\n",
            "users = np.arange(0, 100, 1)\n",
            "response_time = 0.1 * users + 5\n",
            "\n",
            "plt.figure(figsize=(10, 6))\n",
            "plt.plot(users, response_time, label='Responstid vs Antall Brukere')\n",
            "plt.xlabel('Antall Brukere')\n",
            "plt.ylabel('Responstid (ms)')\n",
            "plt.title('Lineær Sammenheng mellom Antall Brukere og Responstid')\n",
            "plt.legend()\n",
            "plt.grid(True)\n",
            "plt.show()"
         ]
      },
      {
         "cell_type": "markdown",
         "metadata": {},
         "source": [
            "### Øvelse: Finn likningen for linjen som går gjennom punktene (2, 5) og (4, 11)"
         ]
      },
      {
         "cell_type": "code",
         "execution_count": null,
         "metadata": {},
         "outputs": [],
         "source": [
            "# Løsning:\n",
            "x1, y1 = 2, 5\n",
            "x2, y2 = 4, 11\n",
            "\n",
            "m = (y2 - y1) / (x2 - x1)  # Stigningstall\n",
            "b = y1 - m * x1  # Konstantledd\n",
            "\n",
            "print(f'Likningen for linjen er: y = {m}x + {b}')"
         ]
      },
      {
         "cell_type": "markdown",
         "metadata": {},
         "source": [
            "## Andregradsfunksjoner: Parabelform (y = ax^2 + bx + c), toppunkt, nullpunkt"
         ]
      },
      {
         "cell_type": "markdown",
         "metadata": {},
         "source": [
            "### Eksempel (IT-drift): Modellere parabolsk sammenheng mellom CPU-bruk og ytelse"
         ]
      },
      {
         "cell_type": "code",
         "execution_count": null,
         "metadata": {},
         "outputs": [],
         "source": [
            "import matplotlib.pyplot as plt\n",
            "import numpy as np\n",
            "\n",
            "cpu_usage = np.arange(0, 101, 1)\n",
            "performance = -0.01 * cpu_usage**2 + cpu_usage\n",
            "\n",
            "plt.figure(figsize=(10, 6))\n",
            "plt.plot(cpu_usage, performance, label='Ytelse vs CPU-bruk')\n",
            "plt.xlabel('CPU-bruk (%)')\n",
            "plt.ylabel('Ytelse')\n",
            "plt.title('Parabolsk Sammenheng mellom CPU-bruk og Ytelse')\n",
            "plt.legend()\n",
            "plt.grid(True)\n",
            "plt.show()"
         ]
      },
      {
         "cell_type": "markdown",
         "metadata": {},
         "source": [
            "### Øvelse: Finn toppunktet og nullpunktene til funksjonen y = -x^2 + 6x - 5"
         ]
      },
      {
         "cell_type": "code",
         "execution_count": null,
         "metadata": {},
         "outputs": [],
         "source": [
            "# Løsning:\n",
            "a = -1\n",
            "b = 6\n",
            "c = -5\n",
            "\n",
            "x_toppunkt = -b / (2 * a)\n",
            "y_toppunkt = a * x_toppunkt**2 + b * x_toppunkt + c\n",
            "\n",
            "print(f'Toppunkt: ({x_toppunkt}, {y_toppunkt})')\n",
            "\n",
            "# Nullpunktene kan finnes ved å løse andregradsligningen -x^2 + 6x - 5 = 0\n",
            "# Kvadratisk formel:\n",
            "diskriminant = b**2 - 4*a*c\n",
            "x1 = (-b + np.sqrt(diskriminant)) / (2 * a)\n",
            "x2 = (-b - np.sqrt(diskriminant)) / (2 * a)\n",
            "\n",
            "print(f'Nullpunkter: x1 = {x1}, x2 = {x2}')"
         ]
      },
      {
         "cell_type": "markdown",
         "metadata": {},
         "source": [
            "## Eksponentialfunksjoner og logaritmer: Eksponentiell vekst/forfall, bruk av logaritmer til å løse eksponentiallikninger"
         ]
      },
      {
         "cell_type": "markdown",
         "metadata": {},
         "source": [
            "### Eksempel (IT-drift): Modellere eksponentiell vekst av data"
         ]
      },
      {
         "cell_type": "code",
         "execution_count": null,
         "metadata": {},
         "outputs": [],
         "source": [
            "import matplotlib.pyplot as plt\n",
            "import numpy as np\n",
            "\n",
            "years = np.arange(0, 10, 1)\n",
            "data_growth = 100 * 1.2**years\n",
            "\n",
            "plt.figure(figsize=(10, 6))\n",
            "plt.plot(years, data_growth, label='Datavkst')\n",
            "plt.xlabel('År')\n",
            "plt.ylabel('Datamengde (GB)')\n",
            "plt.title('Eksponentiell vekst av data')\n",
            "plt.legend()\n",
            "plt.grid(True)\n",
            "plt.show()"
         ]
      },
      {
         "cell_type": "markdown",
         "metadata": {},
         "source": [
            "### Øvelse: Løs likningen 2^x = 16"
         ]
      },
      {
         "cell_type": "code",
         "execution_count": null,
         "metadata": {},
         "outputs": [],
         "source": [
            "# Løsning:\n",
            "import math\n",
            "\n",
            "x = math.log2(16)\n",
            "print(f'x = {x}')"
         ]
      },
      {
         "cell_type": "markdown",
         "metadata": {},
         "source": [
            "## Metadata"
         ]
      },
      {
         "cell_type": "code",
         "execution_count": null,
         "metadata": {},
         "outputs": [],
         "source": [
            "{\n",
            " \"kernelspec\": {\n",
            "  \"display_name\": \"Python 3 (ipykernel)\",\n",
            "  \"language\": \"python\",\n",
            "  \"name\": \"python3\"\n",
            " },\n",
            " \"language_info\": {\n",
            "  \"codemirror_mode\": {\n",
            "   \"name\": \"ipython\",\n",
            "   \"version\": 3\n",
            "  },\n",
            "  \"file_extension\": \".py\",\n",
            "  \"mimetype\": \"text/x-python\",\n",
            "  \"name\": \"python\",\n",
            "  \"nbconvert_exporter\": \"python\",\n",
            "  \"pygments_lexer\": \"ipython3\",\n",
            "  \"version\": \"3.8.5\"\n",
            " }\n",
            "}"
         ]
      }
   ],
   "metadata": {
      "kernelspec": {
         "display_name": "Python 3",
         "language": "python",
         "name": "python3"
      },
      "language_info": {
         "codemirror_mode": {
            "name": "ipython",
            "version": 3
         },
         "file_extension": ".py",
         "mimetype": "text/x-python",
         "name": "python",
         "nbconvert_exporter": "python",
         "pygments_lexer": "ipython3",
         "version": "3.8.5"
      }
   },
   "nbformat": 4,
   "nbformat_minor": 4
}
