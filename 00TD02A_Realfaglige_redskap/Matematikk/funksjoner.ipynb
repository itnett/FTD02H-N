{
   "cells": [
      {
         "cell_type": "markdown",
         "metadata": {},
         "source": [
            "# Modul 3: Funksjoner"
         ]
      },
      {
         "cell_type": "markdown",
         "metadata": {},
         "source": [
            "## Rette linjer: Lineære funksjoner (y = mx + b), stigningstall, konstantledd"
         ]
      },
      {
         "cell_type": "markdown",
         "metadata": {},
         "source": [
            "### Eksempel (IT-drift): Modellere lineær sammenheng mellom antall brukere og responstid"
         ]
      },
      {
         "cell_type": "code",
         "execution_count": null,
         "metadata": {},
         "outputs": [],
         "source": [
            "import matplotlib.pyplot as plt\n",
            "import numpy as np\n",
            "\n",
            "users = np.arange(0, 100, 1)\n",
            "response_time = 0.1 * users + 5\n",
            "\n",
            "plt.figure(figsize=(10, 6))\n",
            "plt.plot(users, response_time, label='Responstid vs Antall Brukere')\n",
            "plt.xlabel('Antall Brukere')\n",
            "plt.ylabel('Responstid (ms)')\n",
            "plt.title('Lineær Sammenheng mellom Antall Brukere og Responstid')\n",
            "plt.legend()\n",
            "plt.grid(True)\n",
            "plt.show()"
         ]
      },
      {
         "cell_type": "markdown",
         "metadata": {},
         "source": [
            "### Øvelse: Finn likningen for linjen som går gjennom punktene (2, 5) og (4, 11)"
         ]
      },
      {
         "cell_type": "code",
         "execution_count": null,
         "metadata": {},
         "outputs": [],
         "source": [
            "# Løsning:\n",
            "x1, y1 = 2, 5\n",
            "x2, y2 = 4, 11\n",
            "\n",
            "m = (y2 - y1) / (x2 - x1)  # Stigningstall\n",
            "b = y1 - m * x1  # Konstantledd\n",
            "\n",
            "print(f'Likningen for linjen er: y = {m}x + {b}')"
         ]
      },
      {
         "cell_type": "markdown",
         "metadata": {},
         "source": [
            "## Andregradsfunksjoner: Parabelform (y = ax^2 + bx + c), toppunkt, nullpunkt"
         ]
      },
      {
         "cell_type": "markdown",
         "metadata": {},
         "source": [
            "### Eksempel (IT-drift): Modellere parabolsk sammenheng mellom CPU-bruk og ytelse"
         ]
      },
      {
         "cell_type": "code",
         "execution_count": null,
         "metadata": {},
         "outputs": [],
         "source": [
            "import matplotlib.pyplot as plt\n",
            "import numpy as np\n",
            "\n",
            "cpu_usage = np.arange(0, 101, 1)\n",
            "performance = -0.01 * cpu_usage**2 + cpu_usage\n",
            "\n",
            "plt.figure(figsize=(10, 6))\n",
            "plt.plot(cpu_usage, performance, label='Ytelse vs CPU-bruk')\n",
            "plt.xlabel('CPU-bruk (%)')\n",
            "plt.ylabel('Ytelse')\n",
            "plt.title('Parabolsk Sammenheng mellom CPU-bruk og Ytelse')\n",
            "plt.legend()\n",
            "plt.grid(True)\n",
            "plt.show()"
         ]
      }