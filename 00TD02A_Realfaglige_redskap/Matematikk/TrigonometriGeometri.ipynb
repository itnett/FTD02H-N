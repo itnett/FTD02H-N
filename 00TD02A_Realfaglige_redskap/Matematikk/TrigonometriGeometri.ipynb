{
   "cells": [
      {
         "cell_type": "markdown",
         "metadata": {},
         "source": [
            "# Modul 2: Trigonometri og Geometri"
         ]
      },
      {
         "cell_type": "markdown",
         "metadata": {},
         "source": [
            "## Areal, omkrets, volum og overflate\n",
            "### Formler for ulike geometriske figurer\n",
            "\n",
            "* **Kvadrat:** Areal = a², Omkrets = 4a\n",
            "* **Rektangel:** Areal = l * b, Omkrets = 2(l + b)\n",
            "* **Sirkel:** Areal = πr², Omkrets = 2πr\n",
            "* **Trekant:** Areal = 0.5 * b * h\n",
            "* **Kule:** Volum = (4/3)πr³, Overflate = 4πr²\n",
            "* **Sylinder:** Volum = πr²h, Overflate = 2πrh + 2πr²"
         ]
      },
      {
         "cell_type": "markdown",
         "metadata": {},
         "source": [
            "### Eksempel (IT-drift): Beregne arealet av et serverrom for å planlegge kjøling og plassering av utstyr"
         ]
      },
      {
         "cell_type": "code",
         "execution_count": null,
         "metadata": {},
         "outputs": [],
         "source": [
            "import ipywidgets as widgets\n",
            "from IPython.display import display\n",
            "\n",
            "length = widgets.FloatSlider(value=10, min=1, max=50, step=0.5, description='Lengde (m)')\n",
            "width = widgets.FloatSlider(value=5, min=1, max=50, step=0.5, description='Bredde (m)')\n",
            "\n",
            "def calculate_area(l, w):\n",
            "    area = l * w\n",
            "    print(f'Arealet av serverrommet: {area} m²')\n",
            "\n",
            "widgets.interactive(calculate_area, l=length, w=width)\n",
            "\n",
            "display(length, width)"
         ]
      },
      {
         "cell_type": "markdown",
         "metadata": {},
         "source": [
            "### Øvelse: Beregn volumet av en sylindrisk tank med radius 5 meter og høyde 10 meter"
         ]
      },
      {
         "cell_type": "code",
         "execution_count": null,
         "metadata": {},
         "outputs": [],
         "source": [
            "import math\n",
            "\n",
            "radius = 5\n",
            "height = 10\n",
            "volume = math.pi * radius**2 * height\n",
            "print(f'Volumet av tanken: {volume:.2f} m³')"
         ]
      },
      {
         "cell_type": "markdown",
         "metadata": {},
         "source": [
            "## Pytagoras' setning\n",
            "### a² + b² = c² for rettvinklede trekanter"
         ]
      },
      {
         "cell_type": "markdown",
         "metadata": {},
         "source": [
            "### Eksempel (IT-drift): Beregne avstanden mellom to punkter i et nettverk"
         ]
      },
      {
         "cell_type": "code",
         "execution_count": null,
         "metadata": {},
         "outputs": [],
         "source": [
            "x1, y1 = 1, 2\n",
            "x2, y2 = 4, 6\n",
            "distance = math.sqrt((x2 - x1)**2 + (y2 - y1)**2)\n",
            "print(f'Avstanden mellom punktene: {distance:.2f}')"
         ]
      },
      {
         "cell_type": "markdown",
         "metadata": {},
         "source": [
            "### Øvelse: En stige på 5 meter står lent mot en vegg. Foten av stigen er 3 meter fra veggen. Hvor høyt opp på veggen rekker stigen?"
         ]
      },
      {
         "cell_type": "code",
         "execution_count": null,
         "metadata": {},
         "outputs": [],
         "source": [
            "ladder_length = 5\n",
            "distance_from_wall = 3\n",
            "height_on_wall = math.sqrt(ladder_length**2 - distance_from_wall**2)\n",
            "print(f'Stigen rekker {height_on_wall:.2f} meter opp på veggen')"
         ]
      },
      {
         "cell_type": "markdown",
         "metadata": {},
         "source": [
            "## Trigonometri i rettvinklede trekanter\n",
            "### Sinus, cosinus, tangens"
         ]
      },
      {
         "cell_type": "markdown",
         "metadata": {},
         "source": [
            "### Eksempel (IT-drift): Beregne vinkler for optimal plassering av antenner i et trådløst nettverk"
         ]
      },
      {
         "cell_type": "code",
         "execution_count": null,
         "metadata": {},
         "outputs": [],
         "source": [
            "opposite = 3\n",
            "adjacent = 4\n",
            "angle_rad = math.atan(opposite / adjacent)\n",
            "angle_deg = math.degrees(angle_rad)\n",
            "print(f'Vinkelen for antenneplassering: {angle_deg:.2f} grader')"
         ]
      },
      {
         "cell_type": "markdown",
         "metadata": {},
         "source": [
            "### Øvelse: I en rettvinklet trekant er hypotenusen 10 cm og en av katetene er 6 cm. Finn den andre kateten og vinklene i trekanten."
         ]
      },
      {
         "cell_type": "code",
         "execution_count": null,
         "metadata": {},
         "outputs": [],
         "source": [
            "hypotenuse = 10\n",
            "side_a = 6\n",
            "side_b = math.sqrt(hypotenuse**2 - side_a**2)\n",
            "\n",
            "angle_a_rad = math.asin(side_a / hypotenuse)\n",
            "angle_b_rad = math.acos(side_a / hypotenuse)\n",
            "angle_a_deg = math.degrees(angle_a_rad)\n",
            "angle_b_deg = math.degrees(angle_b_rad)\n",
            "\n",
            "print(f'Den andre kateten: {side_b:.2f} cm')\n",
            "print(f'Vinkel A: {angle_a_deg:.2f} grader')\n",
            "print(f'Vinkel B: {angle_b_deg:.2f} grader')"
         ]
      },
      {
         "cell_type": "markdown",
         "metadata": {},
         "source": [
            "## Vektorer i planet\n",
            "### Representasjon, addisjon, subtraksjon, skalarprodukt"
         ]
      },
      {
         "cell_type": "markdown",
         "metadata": {},
         "source": [
            "### Eksempel (IT-drift): Beregne resulterende kraft på en server som utsettes for flere krefter"
         ]
      },
      {
         "cell_type": "code",
         "execution_count": null,
         "metadata": {},
         "outputs": [],
         "source": [
            "import numpy as np\n",
            "\n",
            "force_1 = np.array([3, 4])\n",
            "force_2 = np.array([1, -2])\n",
            "resultant_force = force_1 + force_2\n",
            "print(f'Resulterende kraft: {resultant_force}')"
         ]
      },
      {
         "cell_type": "markdown",
         "metadata": {},
         "source": [
            "### Øvelse: Gitt to vektorer a = (3, 4) og b = (-1, 2), beregn a + b og a - b."
         ]
      },
      {
         "cell_type": "code",
         "execution_count": null,
         "metadata": {},
         "outputs": [],
         "source": [
            "a = np.array([3, 4])\n",
            "b = np.array([-1, 2])\n",
            "\n",
            "a_plus_b = a + b\n",
            "a_minus_b = a - b\n",
            "\n",
            "print(f'a + b = {a_plus_b}')\n",
            "print(f'a - b = {a_minus_b}')"
         ]
      }
   ],
   "metadata": {
      "kernelspec": {
         "display_name": "Python 3",
         "language": "python",
         "name": "python3"
      },
      "language_info": {
         "codemirror_mode": {
            "name": "ipython",
            "version": 3
         },
         "file_extension": ".py",
         "mimetype": "text/x-python",
         "name": "python",
         "nbconvert_exporter": "python",
         "pygments_lexer": "ipython3",
         "version": "3.8.5"
      }
   },
   "nbformat": 4,
   "nbformat_minor": 4
}
