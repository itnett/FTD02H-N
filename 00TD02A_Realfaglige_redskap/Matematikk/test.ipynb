{
   "cells":[
      {
         "cell_type":"markdown",
         "metadata":{
            
         },
         "source":[
            "**Introduction to Bioinformatics**<br>\n",
            "A masters course by Blaž Zupan and Tomaž Curk<br>\n",
            "University of Ljubljana (C) 2018\n",
            "\n",
            "Disclaimer: this work is a first draft of our working notes. The images were obtained from various web sites, but mainly from the wikipedia entries with explanations of different biological entities. Material is intended for our bioinformatics class and is not meant for distribution.\n",
            "\n",
            "## Lecture Notes Part 4\n",
            "\n",
            "# Where are the genes?"
         ]
      },
      {
         "cell_type":"markdown",
         "metadata":{
            
         },
         "source":[
            "They are on the DNA. \n",
            "\n",
            "Ok, but where? At this stage, we will assume that gene is an area of the genome that contains a sequence that is transcribed into an mRNA and then translated into a protein.\n",
            "\n",
            "By now we know about central dogma of molecular biology (essentially, DNA to RNA to protein). We also know that DNA is made of two strains. We also now that the two strains run in the opposite direction, hence one strain is a reverse complement of the other one. Genes can be located in one strain or the other. \n",
            "\n",
            "DNA and RNA are synthesized in the 5' to 3' direction, so that the complementary strain is read from 3' to 5'. As the RNA is read again by complementing its codons with a matching tRNA codon, we really need to read the DNA from 3' to 5' to figure out how the protein will look like. (This paragraph is a bit mind blowing. Every time I lecture on this, I have to think for a couple of minutes. But then I remember that the sequences are complemented twice - once during transcription and the second time during translation). For this reason, 3' to 5' strain is referred to as reference strain, and its complementary strain as a reverse complement."
         ]