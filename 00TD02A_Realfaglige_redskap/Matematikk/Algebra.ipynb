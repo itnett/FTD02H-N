{
   "cells": [
      {
         "cell_type": "markdown",
         "metadata": {},
         "source": [
            "## Modul 1: Matematikk"
         ]
      },
      {
         "cell_type": "markdown",
         "metadata": {},
         "source": [
            "### 1. Algebra"
         ]
      },
      {
         "cell_type": "markdown",
         "metadata": {},
         "source": [
            "**Regneregler:**\n",
            "\n",
            "* **Grunnleggende aritmetikk:** Addisjon (+), subtraksjon (-), multiplikasjon (*), divisjon (/).\n",
            "* **Prioritering:** Parenteser, eksponenter, multiplikasjon og divisjon (fra venstre til høyre), addisjon og subtraksjon (fra venstre til høyre). Huskeregel: PEMDAS eller BODMAS.\n",
            "* **Distributiv lov:** a(b + c) = ab + ac\n",
            "* **Assosiativ lov:** (a + b) + c = a + (b + c)\n",
            "* **Kommutativ lov:** a + b = b + a"
         ]
      },
      {
         "cell_type": "markdown",
         "metadata": {},
         "source": [
            "**Eksempel (IT-drift):**\n",
            "\n",
            "Du har tre nettverkslinjer med følgende båndbredde: 100 Mbps, 50 Mbps og 200 Mbps. Hva er den totale båndbredden?"
         ]
      },
      {
         "cell_type": "code",
         "execution_count": null,
         "metadata": {},
         "outputs": [],
         "source": [
            "import ipywidgets as widgets\n",
            "from IPython.display import display\n",
            "\n",
            "bandwidth_1 = widgets.IntSlider(value=100, min=1, max=1000, step=1, description='Linje 1 (Mbps)')\n",
            "bandwidth_2 = widgets.IntSlider(value=50, min=1, max=1000, step=1, description='Linje 2 (Mbps)')\n",
            "bandwidth_3 = widgets.IntSlider(value=200, min=1, max=1000, step=1, description='Linje 3 (Mbps)')\n",
            "\n",
            "def update_bandwidth(b1, b2, b3):\n",
            "    total_bandwidth = b1 + b2 + b3\n",
            "    print(f'Total båndbredde: {total_bandwidth} Mbps')\n",
            "\n",
            "widgets.interactive(update_bandwidth, b1=bandwidth_1, b2=bandwidth_2, b3=bandwidth_3)\n",
            "\n",
            "display(bandwidth_1, bandwidth_2, bandwidth_3)"
         ]
      },
      {
         "cell_type": "markdown",
         "metadata": {},
         "source": [
            "**Øvelse:**\n",
            "\n",
            "Løs likningen: 3x + 5 = 14"
         ]
      },
      {
         "cell_type": "code",
         "execution_count": null,
         "metadata": {},
         "outputs": [],
         "source": [
            "import sympy as sp\n",
            "\n",
            "x = sp.symbols('x')\n",
            "eq = sp.Eq(3*x + 5, 14)\n",
            "solution = sp.solve(eq, x)\n",
            "solution"
         ]
      },
      {
         "cell_type": "markdown",
         "metadata": {},
         "source": [
            "**Brøk og prosentregning:**\n",
            "\n",
            "* **Brøkregning:** Addisjon, subtraksjon (fellesnevner), multiplikasjon, divisjon.\n",
            "* **Konvertering:** Brøk til prosent (multipliser med 100%), prosent til brøk (divider med 100%).\n",
            "* **Prosentregning:** Prosent av et tall (prosent/100 * tallet), prosentvis økning/reduksjon."
         ]
      },
      {
         "cell_type": "markdown",
         "metadata": {},
         "source": [
            "**Eksempel (IT-drift):**\n",
            "\n",
            "Du har 10 servere, og 8 av dem er i bruk. Hva er serverutnyttelsen i prosent?"
         ]
      },
      {
         "cell_type": "code",
         "execution_count": null,
         "metadata": {},
         "outputs": [],
         "source": [
            "servers_total = widgets.IntSlider(value=10, min=1, max=20, step=1, description='Total servere')\n",
            "servers_used = widgets.IntSlider(value=8, min=1, max=20, step=1, description='Brukte servere')\n",
            "\n",
            "def update_utilization(total, used):\n",
            "    utilization = (used / total) * 100\n",
            "    print(f'Serverutnyttelse: {utilization:.2f}%')\n",
            "\n",
            "widgets.interactive(update_utilization, total=servers_total, used=servers_used)\n",
            "\n",
            "display(servers_total, servers_used)"
         ]
      },
      {
         "cell_type": "markdown",
         "metadata": {},
         "source": [
            "**Øvelse:**\n",
            "\n",
            "En harddisk er 80% full. Hvis den har 500 GB kapasitet, hvor mye ledig plass er det?"
         ]
      },
      {
         "cell_type": "code",
         "execution_count": null,
         "metadata": {},
         "outputs": [],
         "source": [
            "capacity = 500\n",
            "used_percentage = 80\n",
            "used_space = (used_percentage / 100) * capacity\n",
            "free_space = capacity - used_space\n",
            "print(f'Ledig plass: {free_space} GB')"
         ]
      },
      {
         "cell_type": "markdown",
         "metadata": {},
         "source": [
            "**Potenser:**\n",
            "\n",
            "* **Grunntall:** Tallet som multipliseres med seg selv.\n",
            "* **Eksponent:** Antall ganger grunntallet multipliseres.\n",
            "* **Potensregler:** \n",
            "    * a^m * a^n = a^(m+n)\n",
            "    * a^m / a^n = a^(m-n)\n",
            "    * (a^m)^n = a^(m*n)"
         ]
      },
      {
         "cell_type": "markdown",
         "metadata": {},
         "source": [
            "**Eksempel (IT-drift):**\n",
            "\n",
            "Et IPv4-subnett har en maske på /24. Hvor mange IP-adresser kan det inneholde?"
         ]
      },
      {
         "cell_type": "code",
         "execution_count": null,
         "metadata": {},
         "outputs": [],
         "source": [
            "subnet_mask = widgets.IntSlider(value=24, min=1, max=32, step=1, description='Subnet Mask')\n",
            "\n",
            "def update_addresses(mask):\n",
            "    host_bits = 32 - mask\n",
            "    num_addresses = 2 ** host_bits\n",
            "    print(f'Antall adresser: {num_addresses}')\n",
            "\n",
            "widgets.interactive(update_addresses, mask=subnet_mask)\n",
            "\n",
            "display(subnet_mask)"
         ]
      },
      {
         "cell_type": "markdown",
         "metadata": {},
         "source": [
            "**Øvelse:**\n",
            "\n",
            "Forenkle uttrykket: (2^3 * 2^4) / 2^5"
         ]
      },
      {
         "cell_type": "code",
         "execution_count": null,
         "metadata": {},
         "outputs": [],
         "source": [
            "simplified_expression = (2**3 * 2**4) / 2**5\n",
            "simplified_expression"
         ]
      },
      {
         "cell_type": "markdown",
         "metadata": {},
         "source": [
            "**Tall på standardform:**\n",
            "\n",
            "* **Vitenskapelig notasjon:** Skrive veldig store eller små tall på en kompakt måte (f.eks., 3.2 x 10^6)."
         ]
      },
      {
         "cell_type": "markdown",
         "metadata": {},
         "source": [
            "**Eksempel (IT-drift):**\n",
            "\n",
            "En harddisk har en kapasitet på 5 terabyte. Skriv dette i bytes på standardform."
         ]
      },
      {
         "cell_type": "code",
         "execution_count": null,
         "metadata": {},
         "outputs": [],
         "source": [
            "capacity_tb = 5\n",
            "capacity_bytes = capacity_tb * 10**12\n",
            "print(f'Kapasitet: {capacity_bytes} bytes')"
         ]
      },
      {
         "cell_type": "markdown",
         "metadata": {},
         "source": [
            "**Øvelse:**\n",
            "\n",
            "Skriv tallet 0.000035 i standardform."
         ]
      },
      {
         "cell_type": "code",
         "execution_count": null,
         "metadata": {},
         "outputs": [],
         "source": [
            "number = 0.000035\n",
            "standard_form = f'{number:.2e}'\n",
            "standard_form"
         ]
      },
      {
         "cell_type": "markdown",
         "metadata": {},
         "source": [
            "**Sammentrekning og faktorisering:**\n",
            "\n",
            "* **Sammentrekning:** Kombinere like termer i et uttrykk (f.eks., 3x + 2x = 5x).\n",
            "* **Faktorisering:** Skrive et uttrykk som et produkt av faktorer (f.eks., x^2 + 5x + 6 = (x + 2)(x + 3))"
         ]
      }
   ],
   "metadata": {
      "kernelspec": {
         "display_name": "Python 3",
         "language": "python",
         "name": "python3"
      },
      "language_info": {
         "codemirror_mode": {
            "name": "ipython",
            "version": 3
         },
         "file_extension": ".py",
         "mimetype": "text/x-python",
         "name": "python",
         "nbconvert_exporter": "python",
         "pygments_lexer": "ipython3",
         "version": "3.8.5"
      }
   },
   "nbformat": 4,
   "nbformat_minor": 4
}
