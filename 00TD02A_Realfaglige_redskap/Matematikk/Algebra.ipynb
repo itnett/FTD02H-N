{
 "cells": [
  {
   "cell_type": "markdown",
   "metadata": {},
   "source": [
    "## Modul 1: Matematikk"
   ]
  },
  {
   "cell_type": "markdown",
   "metadata": {},
   "source": [
    "### 1. Algebra"
   ]
  },
  {
   "cell_type": "markdown",
   "metadata": {},
   "source": [
    "**Regneregler:**\n",
    "\n",
    "* **Grunnleggende aritmetikk:** Addisjon (+), subtraksjon (-), multiplikasjon (*), divisjon (/).\n",
    "* **Prioritering:** Parenteser, eksponenter, multiplikasjon og divisjon (fra venstre til høyre), addisjon og subtraksjon (fra venstre til høyre). Huskeregel: PEMDAS eller BODMAS.\n",
    "* **Distributiv lov:** a(b + c) = ab + ac\n",
    "* **Assosiativ lov:** (a + b) + c = a + (b + c)\n",
    "* **Kommutativ lov:** a + b = b + a"
   ]
  },
  {
   "cell_type": "markdown",
   "metadata": {},
   "source": [
    "**Eksempel (IT-drift):**\n",
    "\n",
    "Du har tre nettverkslinjer med følgende båndbredde: 100 Mbps, 50 Mbps og 200 Mbps. Hva er den totale båndbredden?"
   ]
  },
  {
   "cell_type": "code",
   "execution_count": null,
   "metadata": {},
   "outputs": [],
   "source": [
    "total_båndbredde = 100 + 50 + 200\n",
    "print(f\"Total båndbredde: {total_båndbredde} Mbps\")"
   ]
  },
  {
   "cell_type": "markdown",
   "metadata": {},
   "source": [
    "**Øvelse:**\n",
    "\n",
    "Løs likningen: 3x + 5 = 14"
   ]
  },
  {
   "cell_type": "code",
   "execution_count": null,
   "metadata": {},
   "outputs": [],
   "source": [
    "# Løsning her"
   ]
  },
  {
   "cell_type": "markdown",
   "metadata": {},
   "source": [
    "**Brøk og prosentregning:**\n",
    "\n",
    "* **Brøkregning:** Addisjon, subtraksjon (fellesnevner), multiplikasjon, divisjon.\n",
    "* **Konvertering:** Brøk til prosent (multipliser med 100%), prosent til brøk (divider med 100%).\n",
    "* **Prosentregning:** Prosent av et tall (prosent/100 * tallet), prosentvis økning/reduksjon."
   ]
  },
  {
   "cell_type": "markdown",
   "metadata": {},
   "source": [
    "**Eksempel (IT-drift):**\n",
    "\n",
    "Du har 10 servere, og 8 av dem er i bruk. Hva er serverutnyttelsen i prosent?"
   ]
  },
  {
   "cell_type": "code",
   "execution_count": null,
   "metadata": {},
   "outputs": [],
   "source": [
    "utnyttelse = (8 / 10) * 100\n",
    "print(f\"Serverutnyttelse: {utnyttelse}%\")"
   ]
  },
  {
   "cell_type": "markdown",
   "metadata": {},
   "source": [
    "**Øvelse:**\n",
    "\n",
    "En harddisk er 80% full. Hvis den har 500 GB kapasitet, hvor mye ledig plass er det?"
   ]
  },
  {
   "cell_type": "code",
   "execution_count": null,
   "metadata": {},
   "outputs": [],
   "source": [
    "# Løsning her"
   ]
  },
  {
   "cell_type": "markdown",
   "metadata": {},
   "source": [
    "**Potenser:**\n",
    "\n",
    "* **Grunntall:** Tallet som multipliseres med seg selv.\n",
    "* **Eksponent:** Antall ganger grunntallet multipliseres.\n",
    "* **Potensregler:** \n",
    "    * a^m * a^n = a^(m+n)\n",
    "    * a^m / a^n = a^(m-n)\n",
    "    * (a^m)^n = a^(m*n)"
   ]
  },
  {
   "cell_type": "markdown",
   "metadata": {},
   "source": [
    "**Eksempel (IT-drift):**\n",
    "\n",
    "Et IPv4-subnett har en maske på /24. Hvor mange IP-adresser kan det inneholde?"
   ]
  },
  {
   "cell_type": "code",
   "execution_count": null,
   "metadata": {},
   "outputs": [],
   "source": [
    "vertsbiter = 32 - 24\n",
    "antall_adresser = 2 ** vertsbiter\n",
    "print(f\"Antall adresser: {antall_adresser}\")"
   ]
  },
  {
   "cell_type": "markdown",
   "metadata": {},
   "source": [
    "**Øvelse:**\n",
    "\n",
    "Forenkle uttrykket: (2^3 * 2^4) / 2^5"
   ]
  },
  {
   "cell_type": "code",
   "execution_count": null,
   "metadata": {},
   "outputs": [],
   "source": [
    "# Løsning her"
   ]
  },
  {
   "cell_type": "markdown",
   "metadata": {},
   "source": [
    "**Tall på standardform:**\n",
    "\n",
    "* **Vitenskapelig notasjon:** Skrive veldig store eller små tall på en kompakt måte (f.eks., 3.2 x 10^6)."
   ]
  },
  {
   "cell_type": "markdown",
   "metadata": {},
   "source": [
    "**Eksempel (IT-drift):**\n",
    "\n",
    "En harddisk har en kapasitet på 5 terabyte. Skriv dette i bytes på standardform."
   ]
  },
  {
   "cell_type": "code",
   "execution_count": null,
   "metadata": {},
   "outputs": [],
   "source": [
    "kapasitet_bytes = 5 * 10**12\n",
    "print(f\"Kapasitet: {kapasitet_bytes} bytes\")"
   ]
  },
  {
   "cell_type": "markdown",
   "metadata": {},
   "source": [
    "**Øvelse:**\n",
    "\n",
    "Skriv tallet 0.000035 i standardform."
   ]
  },
  {
   "cell_type": "code",
   "execution_count": null,
   "metadata": {},
   "outputs": [],
   "source": [
    "# Løsning her"
   ]
  },
  {
   "cell_type": "markdown",
   "metadata": {},
   "source": [
    "**Sammentrekning og faktorisering:**\n",
    "\n",
    "* **Sammentrekning:** Kombinere like termer i et uttrykk (f.eks., 3x + 2x = 5x).\n",
